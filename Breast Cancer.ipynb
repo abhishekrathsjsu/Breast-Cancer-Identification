{
 "cells": [
  {
   "cell_type": "code",
   "execution_count": 1,
   "metadata": {},
   "outputs": [],
   "source": [
    "import os\n",
    "INPUT_DATASET = \"datasets/original\"\n",
    "BASE_PATH = \"datasets/idc\"\n",
    "TRAIN_PATH = os.path.sep.join([BASE_PATH, \"training\"])\n",
    "VAL_PATH = os.path.sep.join([BASE_PATH, \"validation\"])\n",
    "TEST_PATH = os.path.sep.join([BASE_PATH, \"testing\"])\n",
    "TRAIN_SPLIT = 0.8\n",
    "VAL_SPLIT = 0.1"
   ]
  },
  {
   "cell_type": "code",
   "execution_count": 1,
   "metadata": {},
   "outputs": [
    {
     "name": "stdout",
     "output_type": "stream",
     "text": [
      "Requirement already satisfied: numpy in /home/abhir/anaconda3/lib/python3.7/site-packages (1.18.1)\n",
      "Collecting opencv-contrib-python\n",
      "  Downloading opencv_contrib_python-4.2.0.34-cp37-cp37m-manylinux1_x86_64.whl (34.2 MB)\n",
      "\u001b[K     |████████████████████████████████| 34.2 MB 23 kB/s  eta 0:00:01    |▏                               | 194 kB 1.6 MB/s eta 0:00:21     |██▉                             | 3.0 MB 1.6 MB/s eta 0:00:20     |████████▏                       | 8.7 MB 5.8 MB/s eta 0:00:05     |█████████▊                      | 10.4 MB 5.8 MB/s eta 0:00:05     |███████████▊                    | 12.6 MB 5.0 MB/s eta 0:00:05     |████████████████████████████▊   | 30.7 MB 3.3 MB/s eta 0:00:02     |█████████████████████████████▉  | 31.8 MB 7.2 MB/s eta 0:00:01\n",
      "\u001b[?25hInstalling collected packages: opencv-contrib-python\n",
      "Successfully installed opencv-contrib-python-4.2.0.34\n",
      "Note: you may need to restart the kernel to use updated packages.\n"
     ]
    }
   ],
   "source": [
    " pip install numpy opencv-contrib-python"
   ]
  },
  {
   "cell_type": "code",
   "execution_count": 2,
   "metadata": {},
   "outputs": [
    {
     "ename": "ModuleNotFoundError",
     "evalue": "No module named 'cancernet'",
     "output_type": "error",
     "traceback": [
      "\u001b[0;31m---------------------------------------------------------------------------\u001b[0m",
      "\u001b[0;31mModuleNotFoundError\u001b[0m                       Traceback (most recent call last)",
      "\u001b[0;32m<ipython-input-2-f9aa157f9bf8>\u001b[0m in \u001b[0;36m<module>\u001b[0;34m\u001b[0m\n\u001b[0;32m----> 1\u001b[0;31m \u001b[0;32mfrom\u001b[0m \u001b[0mcancernet\u001b[0m \u001b[0;32mimport\u001b[0m \u001b[0mconfig\u001b[0m\u001b[0;34m\u001b[0m\u001b[0;34m\u001b[0m\u001b[0m\n\u001b[0m\u001b[1;32m      2\u001b[0m \u001b[0;32mfrom\u001b[0m \u001b[0mimutils\u001b[0m \u001b[0;32mimport\u001b[0m \u001b[0mpaths\u001b[0m\u001b[0;34m\u001b[0m\u001b[0;34m\u001b[0m\u001b[0m\n\u001b[1;32m      3\u001b[0m \u001b[0;32mimport\u001b[0m \u001b[0mrandom\u001b[0m\u001b[0;34m,\u001b[0m \u001b[0mshutil\u001b[0m\u001b[0;34m,\u001b[0m \u001b[0mos\u001b[0m\u001b[0;34m\u001b[0m\u001b[0;34m\u001b[0m\u001b[0m\n\u001b[1;32m      4\u001b[0m \u001b[0moriginalPaths\u001b[0m\u001b[0;34m=\u001b[0m\u001b[0mlist\u001b[0m\u001b[0;34m(\u001b[0m\u001b[0mpaths\u001b[0m\u001b[0;34m.\u001b[0m\u001b[0mlist_images\u001b[0m\u001b[0;34m(\u001b[0m\u001b[0mconfig\u001b[0m\u001b[0;34m.\u001b[0m\u001b[0mINPUT_DATASET\u001b[0m\u001b[0;34m)\u001b[0m\u001b[0;34m)\u001b[0m\u001b[0;34m\u001b[0m\u001b[0;34m\u001b[0m\u001b[0m\n\u001b[1;32m      5\u001b[0m \u001b[0mrandom\u001b[0m\u001b[0;34m.\u001b[0m\u001b[0mseed\u001b[0m\u001b[0;34m(\u001b[0m\u001b[0;36m7\u001b[0m\u001b[0;34m)\u001b[0m\u001b[0;34m\u001b[0m\u001b[0;34m\u001b[0m\u001b[0m\n",
      "\u001b[0;31mModuleNotFoundError\u001b[0m: No module named 'cancernet'"
     ]
    }
   ],
   "source": [
    "from cancernet import config\n",
    "from imutils import paths\n",
    "import random, shutil, os\n",
    "originalPaths=list(paths.list_images(config.INPUT_DATASET))\n",
    "random.seed(7)\n",
    "random.shuffle(originalPaths)\n",
    "index=int(len(originalPaths)*config.TRAIN_SPLIT)\n",
    "trainPaths=originalPaths[:index]\n",
    "testPaths=originalPaths[index:]\n",
    "index=int(len(trainPaths)*config.VAL_SPLIT)\n",
    "valPaths=trainPaths[:index]\n",
    "trainPaths=trainPaths[index:]\n",
    "datasets=[(\"training\", trainPaths, config.TRAIN_PATH),\n",
    "          (\"validation\", valPaths, config.VAL_PATH),\n",
    "          (\"testing\", testPaths, config.TEST_PATH)\n",
    "]\n",
    "for (setType, originalPaths, basePath) in datasets:\n",
    "        print(f'Building {setType} set')\n",
    "        if not os.path.exists(basePath):\n",
    "                print(f'Building directory {base_path}')\n",
    "                os.makedirs(basePath)\n",
    "        for path in originalPaths:\n",
    "                file=path.split(os.path.sep)[-1]\n",
    "                label=file[-5:-4]\n",
    "                labelPath=os.path.sep.join([basePath,label])\n",
    "                if not os.path.exists(labelPath):\n",
    "                        print(f'Building directory {labelPath}')\n",
    "                        os.makedirs(labelPath)\n",
    "                newPath=os.path.sep.join([labelPath, file])\n",
    "                shutil.copy2(inputPath, newPath)"
   ]
  },
  {
   "cell_type": "code",
   "execution_count": null,
   "metadata": {},
   "outputs": [],
   "source": []
  }
 ],
 "metadata": {
  "kernelspec": {
   "display_name": "Python 3",
   "language": "python",
   "name": "python3"
  },
  "language_info": {
   "codemirror_mode": {
    "name": "ipython",
    "version": 3
   },
   "file_extension": ".py",
   "mimetype": "text/x-python",
   "name": "python",
   "nbconvert_exporter": "python",
   "pygments_lexer": "ipython3",
   "version": "3.7.6"
  }
 },
 "nbformat": 4,
 "nbformat_minor": 4
}
